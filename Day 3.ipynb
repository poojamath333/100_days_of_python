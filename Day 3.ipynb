{
 "cells": [
  {
   "cell_type": "code",
   "execution_count": 1,
   "id": "54cfbf2d",
   "metadata": {},
   "outputs": [],
   "source": [
    "# Conditional Statement \n",
    "# If condition:(True)\n",
    "#     print()\n",
    "# else:(False)\n",
    "#     print()"
   ]
  },
  {
   "cell_type": "code",
   "execution_count": 2,
   "id": "ab0a7d8b",
   "metadata": {},
   "outputs": [],
   "source": [
    "# Operators \n",
    "# > (Greater Than)\n",
    "# < (Less Than)\n",
    "# == (Equal To)\n",
    "# >= (Greater Than Equa to)\n",
    "# <= (Less Than Equal To)\n",
    "# != (Not Equal To)"
   ]
  },
  {
   "cell_type": "code",
   "execution_count": 4,
   "id": "3a39f8c5",
   "metadata": {},
   "outputs": [
    {
     "name": "stdout",
     "output_type": "stream",
     "text": [
      "Welcome to Roller Coaster\n",
      "Enter Your height in cm 120\n",
      "Sorry!. You have to grow taller befor you can ride.\n"
     ]
    }
   ],
   "source": [
    "print(\"Welcome to Roller Coaster\")\n",
    "height = int(input(\"Enter Your height in cm \"))\n",
    "\n",
    "if height > 120:\n",
    "    print(\"You can ride roller coaster!\")\n",
    "else:\n",
    "    print(\"Sorry, You have to grow taller befor you can ride.\")\n"
   ]
  },
  {
   "cell_type": "code",
   "execution_count": null,
   "id": "c22e160a",
   "metadata": {},
   "outputs": [],
   "source": [
    "#Nested If Statements"
   ]
  },
  {
   "cell_type": "code",
   "execution_count": 5,
   "id": "b0842653",
   "metadata": {},
   "outputs": [
    {
     "name": "stdout",
     "output_type": "stream",
     "text": [
      "Welcome to Roller Coaster\n",
      "what is your height in cm? 180\n",
      "You can ride roller coaster!\n",
      "what is your age? 24\n",
      "Please pay $12.\n"
     ]
    }
   ],
   "source": [
    "print(\"Welcome to Roller Coaster\")\n",
    "height = int(input(\"what is your height in cm? \"))\n",
    "if height > 120:\n",
    "    print(\"You can ride roller coaster!\")\n",
    "    age = int(input(\"what is your age? \"))\n",
    "    if age < 18:\n",
    "        print(\"Please pay $7.\")\n",
    "    else:\n",
    "        print(\"Please pay $12.\")\n",
    "else:\n",
    "    print(\"Sorry, You have to grow taller befor you can ride.\")"
   ]
  },
  {
   "cell_type": "code",
   "execution_count": 6,
   "id": "842a1b0b",
   "metadata": {},
   "outputs": [],
   "source": [
    "#Elif Statements"
   ]
  },
  {
   "cell_type": "code",
   "execution_count": 7,
   "id": "3a1a38c1",
   "metadata": {},
   "outputs": [
    {
     "name": "stdout",
     "output_type": "stream",
     "text": [
      "Welcome to Roller Coaster\n",
      "what is your height in cm? 160\n",
      "You can ride roller coaster!\n",
      "what is your age? 18\n",
      "Please pay $7.\n"
     ]
    }
   ],
   "source": [
    "print(\"Welcome to Roller Coaster\")\n",
    "height = int(input(\"what is your height in cm? \"))\n",
    "if height > 120:\n",
    "    print(\"You can ride roller coaster!\")\n",
    "    age = int(input(\"what is your age? \"))\n",
    "    if age < 12:\n",
    "        print(\"Please pay $5.\")\n",
    "    elif age <= 18:\n",
    "        print(\"Please pay $7.\")\n",
    "    else:\n",
    "        print(\"Please pay $12.\")\n",
    "else:\n",
    "    print(\"Sorry, You have to grow taller befor you can ride.\")"
   ]
  },
  {
   "cell_type": "code",
   "execution_count": 11,
   "id": "67a070b3",
   "metadata": {},
   "outputs": [
    {
     "name": "stdout",
     "output_type": "stream",
     "text": [
      "Welcome to Roller Coaster\n",
      "what is your height in cm? 185\n",
      "You can ride roller coaster!\n",
      "what is your age? 24\n",
      "Please pay $12.\n",
      "Do you want to take photo? Y or N Y\n",
      "your final bill is $15.\n"
     ]
    }
   ],
   "source": [
    "print(\"Welcome to Roller Coaster\")\n",
    "\n",
    "height = int(input(\"what is your height in cm? \"))\n",
    "bill = 0\n",
    "\n",
    "if height > 120:\n",
    "    print(\"You can ride roller coaster!\")\n",
    "    age = int(input(\"what is your age? \"))\n",
    "    if age < 12:\n",
    "        bill = 5\n",
    "        print(\"Please pay $5.\")\n",
    "    elif age <= 18:\n",
    "        bill = 7\n",
    "        print(\"Please pay $7.\")\n",
    "    else:\n",
    "        bill = 12\n",
    "        print(\"Please pay $12.\")\n",
    "        \n",
    "    want_photos = input(\"Do you want to take photo? Y or N \")\n",
    "    if want_photos == \"Y\":\n",
    "        bill += 3\n",
    "    print(f\"your final bill is ${bill}.\")\n",
    "else:\n",
    "    print(\"Sorry, You have to grow taller befor you can ride.\")"
   ]
  },
  {
   "cell_type": "code",
   "execution_count": 13,
   "id": "554f1f49",
   "metadata": {},
   "outputs": [],
   "source": [
    "# Logical Operators \n",
    "# AND\n",
    "# OR\n",
    "# NOT"
   ]
  },
  {
   "cell_type": "code",
   "execution_count": 15,
   "id": "0c18ac76",
   "metadata": {},
   "outputs": [
    {
     "name": "stdout",
     "output_type": "stream",
     "text": [
      "Welcome to Roller Coaster\n",
      "what is your height in cm? 180\n",
      "You can ride roller coaster!\n",
      "what is your age? 50\n",
      "Have a free ride on us!\n",
      "Do you want to take photo? Y or N Y\n",
      "your final bill is $3.\n"
     ]
    }
   ],
   "source": [
    "print(\"Welcome to Roller Coaster\")\n",
    "\n",
    "height = int(input(\"what is your height in cm? \"))\n",
    "bill = 0\n",
    "\n",
    "if height > 120:\n",
    "    print(\"You can ride roller coaster!\")\n",
    "    age = int(input(\"what is your age? \"))\n",
    "    if age < 12:\n",
    "        bill = 5\n",
    "        print(\"Please pay $5.\")\n",
    "    elif age <= 18:\n",
    "        bill = 7\n",
    "        print(\"Please pay $7.\")\n",
    "    elif age >= 45 and age <= 55:\n",
    "        print(\"Have a free ride on us!\")\n",
    "    else:\n",
    "        bill = 12\n",
    "        print(\"Please pay $12.\")\n",
    "        \n",
    "    want_photos = input(\"Do you want to take photo? Y or N \")\n",
    "    if want_photos == \"Y\":\n",
    "        bill += 3\n",
    "    print(f\"your final bill is ${bill}.\")\n",
    "else:\n",
    "    print(\"Sorry, You have to grow taller befor you can ride.\")"
   ]
  },
  {
   "cell_type": "code",
   "execution_count": null,
   "id": "7fe0d724",
   "metadata": {},
   "outputs": [],
   "source": []
  }
 ],
 "metadata": {
  "kernelspec": {
   "display_name": "Python 3 (ipykernel)",
   "language": "python",
   "name": "python3"
  },
  "language_info": {
   "codemirror_mode": {
    "name": "ipython",
    "version": 3
   },
   "file_extension": ".py",
   "mimetype": "text/x-python",
   "name": "python",
   "nbconvert_exporter": "python",
   "pygments_lexer": "ipython3",
   "version": "3.9.7"
  }
 },
 "nbformat": 4,
 "nbformat_minor": 5
}
