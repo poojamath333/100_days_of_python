{
 "cells": [
  {
   "cell_type": "code",
   "execution_count": 1,
   "id": "32ad8eb2",
   "metadata": {},
   "outputs": [],
   "source": [
    "# Data Types\n",
    "# String\n",
    "# Integer\n",
    "# Float\n",
    "# Boolean"
   ]
  },
  {
   "cell_type": "code",
   "execution_count": 2,
   "id": "4053466c",
   "metadata": {},
   "outputs": [
    {
     "name": "stdout",
     "output_type": "stream",
     "text": [
      "Hello\n",
      "123456\n",
      "I'm Learning Python \n",
      "H\n",
      "o\n"
     ]
    }
   ],
   "source": [
    "# String Data Types\n",
    "print(\"Hello\")\n",
    "print(\"123\" + \"456\")\n",
    "print(\"I'm Learning Python \")\n",
    "print(\"Hello\"[0])\n",
    "print(\"Hello\"[4])"
   ]
  },
  {
   "cell_type": "code",
   "execution_count": 3,
   "id": "5ae46c51",
   "metadata": {},
   "outputs": [
    {
     "name": "stdout",
     "output_type": "stream",
     "text": [
      "1234\n",
      "579\n",
      "12434567\n"
     ]
    }
   ],
   "source": [
    "# Integer Data Type\n",
    "print(1234)\n",
    "print(123+456)\n",
    "print(1243_45_67)"
   ]
  },
  {
   "cell_type": "code",
   "execution_count": 4,
   "id": "c1722943",
   "metadata": {},
   "outputs": [
    {
     "name": "stdout",
     "output_type": "stream",
     "text": [
      "3.142\n",
      "30.89\n"
     ]
    }
   ],
   "source": [
    "# Float Data Type\n",
    "print(3.142)\n",
    "print(30.89)"
   ]
  },
  {
   "cell_type": "code",
   "execution_count": 5,
   "id": "086d551e",
   "metadata": {},
   "outputs": [
    {
     "name": "stdout",
     "output_type": "stream",
     "text": [
      "True\n",
      "False\n"
     ]
    }
   ],
   "source": [
    "# Boolean Data Type\n",
    "print(True)\n",
    "print(False)"
   ]
  },
  {
   "cell_type": "code",
   "execution_count": 6,
   "id": "99820b03",
   "metadata": {},
   "outputs": [],
   "source": [
    "#Mathematical Operators\n",
    "# 3+5\n",
    "# 3*8\n",
    "# 9/2\n",
    "# 3**6 (Exponential)\n",
    "# 18-6\n",
    "# PEMDASLR"
   ]
  },
  {
   "cell_type": "code",
   "execution_count": 7,
   "id": "f3dc64c8",
   "metadata": {},
   "outputs": [
    {
     "name": "stdout",
     "output_type": "stream",
     "text": [
      "8\n",
      "24\n",
      "4.5\n",
      "729\n",
      "12\n",
      "-179.66666666666666\n"
     ]
    }
   ],
   "source": [
    "print(3+5)\n",
    "print(3*8)\n",
    "print(9/2)\n",
    "print(3**6)\n",
    "print(18-6)\n",
    "print((18*4)+5-2**8+4/3-2*1)"
   ]
  },
  {
   "cell_type": "code",
   "execution_count": 8,
   "id": "441303da",
   "metadata": {},
   "outputs": [
    {
     "name": "stdout",
     "output_type": "stream",
     "text": [
      "2.6666666666666665\n",
      "2\n",
      "2.67\n"
     ]
    }
   ],
   "source": [
    "print(8/3)\n",
    "print(8//3)\n",
    "print(round(8/3,2))"
   ]
  },
  {
   "cell_type": "code",
   "execution_count": 9,
   "id": "643920e9",
   "metadata": {},
   "outputs": [],
   "source": [
    "# f-string : Using f'string we can add all type of data types in sentences "
   ]
  },
  {
   "cell_type": "code",
   "execution_count": 14,
   "id": "9e5765c1",
   "metadata": {},
   "outputs": [
    {
     "name": "stdout",
     "output_type": "stream",
     "text": [
      "(Your height is 4.2m, weight is 59kg and your skin is bright - True)\n"
     ]
    }
   ],
   "source": [
    "height = 4.2\n",
    "weight = 59\n",
    "fairness = True\n",
    "\n",
    "print(f'(Your height is {height}m, weight is {weight}kg and your skin is bright - {fairness})')"
   ]
  },
  {
   "cell_type": "code",
   "execution_count": null,
   "id": "3bfb6ef7",
   "metadata": {},
   "outputs": [],
   "source": []
  }
 ],
 "metadata": {
  "kernelspec": {
   "display_name": "Python 3 (ipykernel)",
   "language": "python",
   "name": "python3"
  },
  "language_info": {
   "codemirror_mode": {
    "name": "ipython",
    "version": 3
   },
   "file_extension": ".py",
   "mimetype": "text/x-python",
   "name": "python",
   "nbconvert_exporter": "python",
   "pygments_lexer": "ipython3",
   "version": "3.9.7"
  }
 },
 "nbformat": 4,
 "nbformat_minor": 5
}
