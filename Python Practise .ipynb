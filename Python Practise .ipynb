{
 "cells": [
  {
   "cell_type": "code",
   "execution_count": 16,
   "id": "91339092",
   "metadata": {},
   "outputs": [
    {
     "name": "stdout",
     "output_type": "stream",
     "text": [
      "Python for \"Beginners\"\n",
      "Hello world\n",
      "225\n",
      "0.25\n",
      "Hello@world\n",
      "True\n",
      "False\n"
     ]
    }
   ],
   "source": [
    "print('Python for \"Beginners\"')\n",
    "print(\"Hello world\")\n",
    "print(225)\n",
    "print(0.25)\n",
    "print(\"Hello@world\")\n",
    "print(True)\n",
    "print(False)"
   ]
  },
  {
   "cell_type": "code",
   "execution_count": 15,
   "id": "0242ea17",
   "metadata": {},
   "outputs": [
    {
     "name": "stdout",
     "output_type": "stream",
     "text": [
      "Python for beginners\n"
     ]
    }
   ],
   "source": [
    "course = 'Python for beginners'\n",
    "print(course)"
   ]
  },
  {
   "cell_type": "code",
   "execution_count": 17,
   "id": "b9e96473",
   "metadata": {},
   "outputs": [
    {
     "name": "stdout",
     "output_type": "stream",
     "text": [
      "Hello world\n",
      "225\n",
      "0.25\n",
      "Hello@world\n",
      "True\n",
      "False\n",
      "<class 'list'>\n",
      "<class 'dict'>\n"
     ]
    }
   ],
   "source": [
    "print(\"Hello world\")\n",
    "print(225)\n",
    "print(0.25)\n",
    "print(\"Hello@world\")\n",
    "print(True)\n",
    "print(False)\n",
    "print(type(['a','b','c','d', 1, 2, 3, 4, 0.1, 0.2, 0.3, 0.4, True, False]))\n",
    "print(type({\"A\":\"apple\", \"B\":\"banana\", \"C\":\"carrot\"}))"
   ]
  },
  {
   "cell_type": "code",
   "execution_count": 19,
   "id": "b2cc2a29",
   "metadata": {},
   "outputs": [],
   "source": [
    "# assigning varriables"
   ]
  },
  {
   "cell_type": "code",
   "execution_count": 25,
   "id": "26e06b70",
   "metadata": {},
   "outputs": [],
   "source": [
    "first_name = 'John'\n",
    "last_name = 'smith'\n",
    "email = 'johnsmith2@gmail.com'"
   ]
  },
  {
   "cell_type": "code",
   "execution_count": 26,
   "id": "42c2340d",
   "metadata": {},
   "outputs": [],
   "source": [
    "#formatted printing (f')"
   ]
  },
  {
   "cell_type": "code",
   "execution_count": 28,
   "id": "418ea2df",
   "metadata": {},
   "outputs": [
    {
     "name": "stdout",
     "output_type": "stream",
     "text": [
      "My name is John smith. and my email address is johnsmith2@gmail.com\n"
     ]
    }
   ],
   "source": [
    "print(f'My name is {first_name} {last_name}. and my email address is {email}')\n"
   ]
  },
  {
   "cell_type": "code",
   "execution_count": 31,
   "id": "13e5be87",
   "metadata": {},
   "outputs": [
    {
     "name": "stdout",
     "output_type": "stream",
     "text": [
      "Hi everyone Mosh here. \n",
      "How are you?\n"
     ]
    }
   ],
   "source": [
    "name = 'Mosh'\n",
    "print(f'Hi everyone {name} here. \\nHow are you?')"
   ]
  },
  {
   "cell_type": "code",
   "execution_count": 32,
   "id": "b1bacb04",
   "metadata": {},
   "outputs": [],
   "source": [
    "# input function"
   ]
  },
  {
   "cell_type": "code",
   "execution_count": 39,
   "id": "50fc43cc",
   "metadata": {},
   "outputs": [
    {
     "name": "stdout",
     "output_type": "stream",
     "text": [
      "Enter your marks here 450\n",
      "75\n"
     ]
    }
   ],
   "source": [
    "marks = int(input('Enter your marks here '))\n",
    "score = marks*100//600\n",
    "print(score)"
   ]
  },
  {
   "cell_type": "code",
   "execution_count": 41,
   "id": "4b9758ae",
   "metadata": {},
   "outputs": [
    {
     "name": "stdout",
     "output_type": "stream",
     "text": [
      "enter your weight in kg59\n",
      "23.6\n"
     ]
    }
   ],
   "source": [
    "weight = int(input('enter your weight in kg' ))\n",
    "weight_in_lb = weight * 0.4\n",
    "print(weight_in_lb)"
   ]
  },
  {
   "cell_type": "code",
   "execution_count": 42,
   "id": "0a541a1f",
   "metadata": {},
   "outputs": [
    {
     "name": "stdout",
     "output_type": "stream",
     "text": [
      "5\n"
     ]
    }
   ],
   "source": [
    "print(len(\"hello\"))"
   ]
  },
  {
   "cell_type": "code",
   "execution_count": 43,
   "id": "50462178",
   "metadata": {},
   "outputs": [
    {
     "name": "stdout",
     "output_type": "stream",
     "text": [
      "4\n"
     ]
    }
   ],
   "source": [
    "print(len([1, 0.25, \"apple\", \"banana\"]))"
   ]
  },
  {
   "cell_type": "code",
   "execution_count": 44,
   "id": "996e4847",
   "metadata": {},
   "outputs": [
    {
     "name": "stdout",
     "output_type": "stream",
     "text": [
      "python for data analystics\n"
     ]
    }
   ],
   "source": [
    "course = (\"python for data analystics\")\n",
    "print(course[0:])"
   ]
  },
  {
   "cell_type": "code",
   "execution_count": 45,
   "id": "923a1258",
   "metadata": {},
   "outputs": [
    {
     "name": "stdout",
     "output_type": "stream",
     "text": [
      "ython for data analystic\n"
     ]
    }
   ],
   "source": [
    "print(course[1:-1])"
   ]
  },
  {
   "cell_type": "code",
   "execution_count": 48,
   "id": "261e5e03",
   "metadata": {},
   "outputs": [
    {
     "name": "stdout",
     "output_type": "stream",
     "text": [
      "python for data analystic\n"
     ]
    }
   ],
   "source": [
    "print(course[ : -1])"
   ]
  },
  {
   "cell_type": "code",
   "execution_count": 49,
   "id": "89995e0c",
   "metadata": {},
   "outputs": [],
   "source": [
    "# Lists"
   ]
  },
  {
   "cell_type": "code",
   "execution_count": 50,
   "id": "f12a4525",
   "metadata": {},
   "outputs": [],
   "source": [
    "name = ['ara','bavana', 'cenny', 'ducy', 'engela']"
   ]
  },
  {
   "cell_type": "code",
   "execution_count": 51,
   "id": "b68085cd",
   "metadata": {},
   "outputs": [
    {
     "name": "stdout",
     "output_type": "stream",
     "text": [
      "ara\n"
     ]
    }
   ],
   "source": [
    "print(name[0])"
   ]
  },
  {
   "cell_type": "code",
   "execution_count": 52,
   "id": "78394901",
   "metadata": {},
   "outputs": [
    {
     "name": "stdout",
     "output_type": "stream",
     "text": [
      "['ara', 'bavana', 'cenny']\n"
     ]
    }
   ],
   "source": [
    "print(name[0:3])"
   ]
  },
  {
   "cell_type": "code",
   "execution_count": 53,
   "id": "7bf489b7",
   "metadata": {},
   "outputs": [
    {
     "name": "stdout",
     "output_type": "stream",
     "text": [
      "['ara', 'bavana', 'cenny', 'ducy', 'engela']\n"
     ]
    }
   ],
   "source": [
    "print(name[0:len(name)])"
   ]
  },
  {
   "cell_type": "code",
   "execution_count": 57,
   "id": "1b76aac8",
   "metadata": {},
   "outputs": [],
   "source": [
    "# List Methosds"
   ]
  },
  {
   "cell_type": "code",
   "execution_count": 59,
   "id": "84f32023",
   "metadata": {},
   "outputs": [
    {
     "name": "stdout",
     "output_type": "stream",
     "text": [
      "['ara', 'bavana', 'cenny', 'ducy', 'engela', 'fishy', 'fishy']\n"
     ]
    }
   ],
   "source": [
    "# insert\n",
    "name.insert(5,'fishy')\n",
    "print(name)"
   ]
  },
  {
   "cell_type": "code",
   "execution_count": 60,
   "id": "14cf8b12",
   "metadata": {},
   "outputs": [
    {
     "name": "stdout",
     "output_type": "stream",
     "text": [
      "['ara', 'bavana', 'cenny', 'ducy', 'engela', 'fishy', 'fishy', 'gurshy']\n"
     ]
    }
   ],
   "source": [
    "#append\n",
    "name.append(\"gurshy\")\n",
    "print(name)"
   ]
  },
  {
   "cell_type": "code",
   "execution_count": 61,
   "id": "047ccdf9",
   "metadata": {},
   "outputs": [
    {
     "name": "stdout",
     "output_type": "stream",
     "text": [
      "['ara', 'bavana', 'cenny', 'ducy', 'engela', 'fishy', 'fishy', 'gurshy', 'rosy', 'massie', 'ronald']\n"
     ]
    }
   ],
   "source": [
    "#extend\n",
    "last_name = ('rosy', 'massie', 'ronald')\n",
    "name.extend(last_name)\n",
    "print(name)"
   ]
  },
  {
   "cell_type": "code",
   "execution_count": 62,
   "id": "93fafa1d",
   "metadata": {},
   "outputs": [
    {
     "name": "stdout",
     "output_type": "stream",
     "text": [
      "['ara', 'bavana', 'cenny', 'ducy', 'engela', 'fishy', 'fishy', 'gurshy', 'massie', 'ronald']\n"
     ]
    }
   ],
   "source": [
    "#pop\n",
    "name.pop(8)\n",
    "print(name)"
   ]
  },
  {
   "cell_type": "code",
   "execution_count": 63,
   "id": "3c8ef269",
   "metadata": {},
   "outputs": [
    {
     "name": "stdout",
     "output_type": "stream",
     "text": [
      "['ara', 'bavana', 'cenny', 'ducy', 'engela', 'fishy', 'gurshy', 'massie', 'ronald']\n"
     ]
    }
   ],
   "source": [
    "#remove\n",
    "name.remove(\"fishy\")\n",
    "print(name)"
   ]
  },
  {
   "cell_type": "code",
   "execution_count": 65,
   "id": "093c5e51",
   "metadata": {},
   "outputs": [
    {
     "name": "stdout",
     "output_type": "stream",
     "text": [
      "['ronald', 'massie', 'gurshy', 'fishy', 'engela', 'ducy', 'cenny', 'bavana', 'ara']\n"
     ]
    }
   ],
   "source": [
    "#reverse\n",
    "name.reverse()\n",
    "print(name)"
   ]
  },
  {
   "cell_type": "code",
   "execution_count": 66,
   "id": "663ccd51",
   "metadata": {},
   "outputs": [
    {
     "name": "stdout",
     "output_type": "stream",
     "text": [
      "['ronald', 'massie', 'gurshy', 'fishy', 'engela', 'ducy', 'cenny', 'bavana', 'ara']\n"
     ]
    }
   ],
   "source": [
    "#sort\n",
    "name.sort(reverse = True)\n",
    "print(name)"
   ]
  },
  {
   "cell_type": "code",
   "execution_count": 67,
   "id": "ea0ad551",
   "metadata": {},
   "outputs": [
    {
     "name": "stdout",
     "output_type": "stream",
     "text": [
      "['ara', 'bavana', 'cenny', 'ducy', 'engela', 'fishy', 'gurshy', 'massie', 'ronald']\n"
     ]
    }
   ],
   "source": [
    "name.sort()\n",
    "print(name)"
   ]
  },
  {
   "cell_type": "code",
   "execution_count": 68,
   "id": "64483026",
   "metadata": {},
   "outputs": [
    {
     "name": "stdout",
     "output_type": "stream",
     "text": [
      "['ara', 'bavana', 'cenny', 'ducy', 'engela', 'fishy', 'gurshy', 'massie', 'ronald']\n"
     ]
    }
   ],
   "source": [
    "name_copy = name.copy()\n",
    "print(name_copy)"
   ]
  },
  {
   "cell_type": "code",
   "execution_count": null,
   "id": "38fd87aa",
   "metadata": {},
   "outputs": [],
   "source": []
  }
 ],
 "metadata": {
  "kernelspec": {
   "display_name": "Python 3 (ipykernel)",
   "language": "python",
   "name": "python3"
  },
  "language_info": {
   "codemirror_mode": {
    "name": "ipython",
    "version": 3
   },
   "file_extension": ".py",
   "mimetype": "text/x-python",
   "name": "python",
   "nbconvert_exporter": "python",
   "pygments_lexer": "ipython3",
   "version": "3.9.7"
  }
 },
 "nbformat": 4,
 "nbformat_minor": 5
}
