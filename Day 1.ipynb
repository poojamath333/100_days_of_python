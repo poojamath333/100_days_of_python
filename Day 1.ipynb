{
 "cells": [
  {
   "cell_type": "code",
   "execution_count": 2,
   "id": "870e1732",
   "metadata": {},
   "outputs": [
    {
     "name": "stdout",
     "output_type": "stream",
     "text": [
      "Hello World\n"
     ]
    }
   ],
   "source": [
    "print(\"Hello World\")"
   ]
  },
  {
   "cell_type": "code",
   "execution_count": 4,
   "id": "8b3b1b9c",
   "metadata": {},
   "outputs": [
    {
     "name": "stdout",
     "output_type": "stream",
     "text": [
      "hello Pooja!!\n"
     ]
    }
   ],
   "source": [
    "print(\"hello Pooja!!\")"
   ]
  },
  {
   "cell_type": "code",
   "execution_count": 5,
   "id": "4cf4e56d",
   "metadata": {},
   "outputs": [
    {
     "name": "stdout",
     "output_type": "stream",
     "text": [
      "*****\n"
     ]
    }
   ],
   "source": [
    "print(\"*****\")"
   ]
  },
  {
   "cell_type": "code",
   "execution_count": 7,
   "id": "81b00026",
   "metadata": {},
   "outputs": [
    {
     "name": "stdout",
     "output_type": "stream",
     "text": [
      "**********\n"
     ]
    }
   ],
   "source": [
    "print(\"*\" * 10)"
   ]
  },
  {
   "cell_type": "code",
   "execution_count": 9,
   "id": "534e5e50",
   "metadata": {},
   "outputs": [
    {
     "name": "stdout",
     "output_type": "stream",
     "text": [
      "Hi guy's\n"
     ]
    }
   ],
   "source": [
    "print(\"Hi guy's\")"
   ]
  },
  {
   "cell_type": "code",
   "execution_count": 11,
   "id": "d0770705",
   "metadata": {},
   "outputs": [
    {
     "name": "stdout",
     "output_type": "stream",
     "text": [
      "Hello \"Eveyone\"\n"
     ]
    }
   ],
   "source": [
    "print('Hello \"Eveyone\"')"
   ]
  },
  {
   "cell_type": "code",
   "execution_count": 13,
   "id": "477b3adc",
   "metadata": {},
   "outputs": [
    {
     "name": "stdout",
     "output_type": "stream",
     "text": [
      "hey everyone!\n",
      "hey everyone\n",
      "hey everyone\n"
     ]
    }
   ],
   "source": [
    "print(\"hey everyone!\\nhey everyone\\nhey everyone\")"
   ]
  },
  {
   "cell_type": "code",
   "execution_count": 15,
   "id": "cd8f4403",
   "metadata": {},
   "outputs": [
    {
     "name": "stdout",
     "output_type": "stream",
     "text": [
      "Hello Pooja Math\n"
     ]
    }
   ],
   "source": [
    "print(\"Hello\" + \" \" + \"Pooja Math\")"
   ]
  },
  {
   "cell_type": "code",
   "execution_count": 1,
   "id": "990954a9",
   "metadata": {},
   "outputs": [],
   "source": [
    "# type of errors 1. Indentation 2. Syntax 3. Name Error"
   ]
  },
  {
   "cell_type": "code",
   "execution_count": 2,
   "id": "6fc5f852",
   "metadata": {},
   "outputs": [
    {
     "name": "stdout",
     "output_type": "stream",
     "text": [
      "whta's your name?Sonia\n",
      "Hi Sonia!\n"
     ]
    }
   ],
   "source": [
    "print('Hi '+ input(\"whta's your name?\") + '!')"
   ]
  },
  {
   "cell_type": "code",
   "execution_count": null,
   "id": "25d2d43e",
   "metadata": {},
   "outputs": [],
   "source": []
  }
 ],
 "metadata": {
  "kernelspec": {
   "display_name": "Python 3 (ipykernel)",
   "language": "python",
   "name": "python3"
  },
  "language_info": {
   "codemirror_mode": {
    "name": "ipython",
    "version": 3
   },
   "file_extension": ".py",
   "mimetype": "text/x-python",
   "name": "python",
   "nbconvert_exporter": "python",
   "pygments_lexer": "ipython3",
   "version": "3.9.7"
  }
 },
 "nbformat": 4,
 "nbformat_minor": 5
}
