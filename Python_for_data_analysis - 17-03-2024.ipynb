{
 "cells": [
  {
   "cell_type": "code",
   "execution_count": 1,
   "id": "3793cc63",
   "metadata": {},
   "outputs": [
    {
     "name": "stdout",
     "output_type": "stream",
     "text": [
      "hello world\n"
     ]
    }
   ],
   "source": [
    "print(\"hello world\")"
   ]
  },
  {
   "cell_type": "code",
   "execution_count": 3,
   "id": "e941d0f1",
   "metadata": {},
   "outputs": [
    {
     "name": "stdout",
     "output_type": "stream",
     "text": [
      "That's my book\n"
     ]
    }
   ],
   "source": [
    "print(\"That's my book\")"
   ]
  },
  {
   "cell_type": "code",
   "execution_count": 1,
   "id": "e7099931",
   "metadata": {},
   "outputs": [
    {
     "name": "stdout",
     "output_type": "stream",
     "text": [
      "John\n",
      "23\n",
      "john23@gmail.com\n"
     ]
    }
   ],
   "source": [
    "# Variables \n",
    "name = \"John\"\n",
    "age = 23\n",
    "email = \"john23@gmail.com\"\n",
    "print(name)\n",
    "print(age)\n",
    "print(email)"
   ]
  },
  {
   "cell_type": "code",
   "execution_count": 2,
   "id": "da28cb5e",
   "metadata": {},
   "outputs": [
    {
     "name": "stdout",
     "output_type": "stream",
     "text": [
      "what's your name? Mosh\n",
      "Enter age 25\n",
      "Enter email mosh@yahoo.co.in\n",
      "Mosh\n",
      "25\n",
      "mosh@yahoo.co.in\n"
     ]
    }
   ],
   "source": [
    "# Reciving Inputs \n",
    "name = input(\"what's your name? \")\n",
    "age = input(\"Enter age \")\n",
    "email = input(\"Enter email \")\n",
    "print(name)\n",
    "print(age)\n",
    "print(email)\n"
   ]
  },
  {
   "cell_type": "code",
   "execution_count": 6,
   "id": "060d76cc",
   "metadata": {},
   "outputs": [
    {
     "name": "stdout",
     "output_type": "stream",
     "text": [
      "Enter Birth Year 1997\n",
      "27\n"
     ]
    }
   ],
   "source": [
    "# Type Conversion\n",
    "#Int Conversion\n",
    "# Float Conversion\n",
    "\n",
    "birth_year = input(\"Enter Birth Year \")\n",
    "age = 2024 - int(birth_year)\n",
    "print(age)"
   ]
  },
  {
   "cell_type": "code",
   "execution_count": 11,
   "id": "5cc13d94",
   "metadata": {},
   "outputs": [
    {
     "name": "stdout",
     "output_type": "stream",
     "text": [
      "Enter weight in lbs 120\n",
      "54.0\n"
     ]
    }
   ],
   "source": [
    "weight = input(\"Enter weight in lbs \")\n",
    "weight_in_kg = float(weight) * 0.45\n",
    "print(weight_in_kg)"
   ]
  },
  {
   "cell_type": "code",
   "execution_count": 12,
   "id": "c362639a",
   "metadata": {},
   "outputs": [
    {
     "name": "stdout",
     "output_type": "stream",
     "text": [
      "python's course for begineer\n"
     ]
    }
   ],
   "source": [
    "# Strings\n",
    "print(\"python's course for begineer\")"
   ]
  },
  {
   "cell_type": "code",
   "execution_count": 13,
   "id": "d86ada93",
   "metadata": {},
   "outputs": [
    {
     "name": "stdout",
     "output_type": "stream",
     "text": [
      "Python for \"Beginners\"\n"
     ]
    }
   ],
   "source": [
    "print('Python for \"Beginners\"')"
   ]
  },
  {
   "cell_type": "code",
   "execution_count": 14,
   "id": "809827cf",
   "metadata": {},
   "outputs": [
    {
     "name": "stdout",
     "output_type": "stream",
     "text": [
      "*****\n"
     ]
    }
   ],
   "source": [
    "print(\"*\" * 5)"
   ]
  },
  {
   "cell_type": "code",
   "execution_count": 16,
   "id": "c993e120",
   "metadata": {},
   "outputs": [
    {
     "name": "stdout",
     "output_type": "stream",
     "text": [
      "Hi World\n"
     ]
    }
   ],
   "source": [
    "print(\"Hi\" + ' '+  \"World\")"
   ]
  },
  {
   "cell_type": "code",
   "execution_count": 23,
   "id": "27ee1364",
   "metadata": {},
   "outputs": [
    {
     "name": "stdout",
     "output_type": "stream",
     "text": [
      "y\n",
      "i\n",
      "Python\n",
      "Python for data analysis\n",
      "ython for data analysi\n"
     ]
    }
   ],
   "source": [
    "# Indexing \n",
    "course = \"Python for data analysis\"\n",
    "#         0123456789\n",
    "project = course[:]\n",
    "print(course[1])\n",
    "print(course[-2])\n",
    "print(course[0:6])\n",
    "print(project)\n",
    "print(course[1:-1])\n"
   ]
  },
  {
   "cell_type": "code",
   "execution_count": 25,
   "id": "be379b81",
   "metadata": {},
   "outputs": [
    {
     "name": "stdout",
     "output_type": "stream",
     "text": [
      "John [Marry] is a coder\n"
     ]
    }
   ],
   "source": [
    "# Formatted string f\" \"\n",
    "name = \"John\"\n",
    "last_name = \"Marry\"\n",
    "print(f'{name} [{last_name}] is a coder')"
   ]
  },
  {
   "cell_type": "code",
   "execution_count": 26,
   "id": "86a40815",
   "metadata": {},
   "outputs": [],
   "source": [
    "# String Methods"
   ]
  },
  {
   "cell_type": "code",
   "execution_count": 34,
   "id": "7a23ef06",
   "metadata": {},
   "outputs": [
    {
     "name": "stdout",
     "output_type": "stream",
     "text": [
      "19\n",
      "PYHTON FOR EVERYONE\n",
      "1\n",
      "Pyhton for beginners\n",
      "True\n"
     ]
    }
   ],
   "source": [
    "course = \"Pyhton for everyone\"\n",
    "print(len(course))\n",
    "print(course.upper()) \n",
    "print(course.find('y'))\n",
    "print(course.replace('everyone', 'beginners'))\n",
    "print('Pyhton' in course)"
   ]
  },
  {
   "cell_type": "code",
   "execution_count": 35,
   "id": "91f69ad7",
   "metadata": {},
   "outputs": [],
   "source": [
    "# Arithmetic operators"
   ]
  },
  {
   "cell_type": "code",
   "execution_count": 40,
   "id": "08a23c0f",
   "metadata": {},
   "outputs": [
    {
     "name": "stdout",
     "output_type": "stream",
     "text": [
      "3.3333333333333335\n",
      "3\n",
      "1\n",
      "13\n",
      "7\n",
      "30\n",
      "1000\n"
     ]
    }
   ],
   "source": [
    "print(10/3)\n",
    "print(10//3)\n",
    "print(10%3)\n",
    "print(10+3)\n",
    "print(10-3)\n",
    "print(10*3)\n",
    "print(10**3)"
   ]
  },
  {
   "cell_type": "code",
   "execution_count": 38,
   "id": "cb093938",
   "metadata": {},
   "outputs": [
    {
     "name": "stdout",
     "output_type": "stream",
     "text": [
      "20\n"
     ]
    }
   ],
   "source": [
    "x = 10\n",
    "x = x + 5\n",
    "x += 5\n",
    "print(x)"
   ]
  },
  {
   "cell_type": "code",
   "execution_count": 39,
   "id": "f44ae5d9",
   "metadata": {},
   "outputs": [
    {
     "data": {
      "text/plain": [
       "18"
      ]
     },
     "execution_count": 39,
     "metadata": {},
     "output_type": "execute_result"
    }
   ],
   "source": [
    "10+ (5-3) * 4"
   ]
  },
  {
   "cell_type": "code",
   "execution_count": 42,
   "id": "603a711f",
   "metadata": {},
   "outputs": [
    {
     "name": "stdout",
     "output_type": "stream",
     "text": [
      "22\n"
     ]
    }
   ],
   "source": [
    "x = 10 + 3 *2 ** 2\n",
    "print(x)"
   ]
  },
  {
   "cell_type": "code",
   "execution_count": 43,
   "id": "aa9caa67",
   "metadata": {},
   "outputs": [],
   "source": [
    "# Math Functions\n"
   ]
  },
  {
   "cell_type": "code",
   "execution_count": 47,
   "id": "f48d6081",
   "metadata": {},
   "outputs": [
    {
     "name": "stdout",
     "output_type": "stream",
     "text": [
      "3\n",
      "2.9\n"
     ]
    }
   ],
   "source": [
    "x = 2.9\n",
    "print(round(x))\n",
    "\n",
    "y = -2.9\n",
    "print(abs(y))"
   ]
  },
  {
   "cell_type": "code",
   "execution_count": 48,
   "id": "733eb3c2",
   "metadata": {},
   "outputs": [],
   "source": [
    "# If Statements"
   ]
  },
  {
   "cell_type": "code",
   "execution_count": 49,
   "id": "b90a5302",
   "metadata": {},
   "outputs": [
    {
     "name": "stdout",
     "output_type": "stream",
     "text": [
      "It's a hot day\n",
      "Drink Pleanty of water\n",
      "Enjoy your day\n"
     ]
    }
   ],
   "source": [
    "is_hot = True\n",
    "\n",
    "if is_hot:\n",
    "    print(\"It's a hot day\")\n",
    "    print(\"Drink Pleanty of water\")\n",
    "print(\"Enjoy your day\")\n"
   ]
  },
  {
   "cell_type": "code",
   "execution_count": 51,
   "id": "dbdb9fbc",
   "metadata": {},
   "outputs": [
    {
     "name": "stdout",
     "output_type": "stream",
     "text": [
      "Enjoy your day\n"
     ]
    }
   ],
   "source": [
    "is_hot = False\n",
    "\n",
    "if is_hot:\n",
    "    print(\"It's a hot day\")\n",
    "    print(\"\")\n",
    "print(\"Enjoy your day\")"
   ]
  },
  {
   "cell_type": "code",
   "execution_count": 52,
   "id": "8495fe89",
   "metadata": {},
   "outputs": [
    {
     "name": "stdout",
     "output_type": "stream",
     "text": [
      "It's a hot day\n",
      "Drink Pleanty of water\n",
      "Enjoy your day\n"
     ]
    }
   ],
   "source": [
    "is_hot = True\n",
    "if is_hot:\n",
    "    print(\"It's a hot day\")\n",
    "    print(\"Drink Pleanty of water\")\n",
    "else:\n",
    "    print(\"It's a cold day\")\n",
    "    print(\"Wear warm clothes\")\n",
    "print(\"Enjoy your day\")"
   ]
  },
  {
   "cell_type": "code",
   "execution_count": 55,
   "id": "aba6ecb7",
   "metadata": {},
   "outputs": [
    {
     "name": "stdout",
     "output_type": "stream",
     "text": [
      "It's a cold day\n",
      "Wear warm clothes\n"
     ]
    }
   ],
   "source": [
    "# If-Elif Statements\n",
    "\n",
    "is_hot = False\n",
    "is_cold = True\n",
    "\n",
    "if is_hot:\n",
    "    print(\"It's a hot day\")\n",
    "    print(\"Drink Pleanty of water\")\n",
    "elif is_cold:\n",
    "    print(\"It's a cold day\")\n",
    "    print(\"Wear warm clothes\")\n",
    "else:\n",
    "    print(\"Enjoy your day\")\n",
    "    \n"
   ]
  },
  {
   "cell_type": "code",
   "execution_count": 6,
   "id": "d0720c84",
   "metadata": {
    "scrolled": true
   },
   "outputs": [
    {
     "name": "stdout",
     "output_type": "stream",
     "text": [
      " Down payment = $ 800.0\n"
     ]
    }
   ],
   "source": [
    "good_credit = False\n",
    "amount = 1000\n",
    "\n",
    "if good_credit:\n",
    "    down_payment = amount - amount*0.1\n",
    "else:\n",
    "    down_payment = amount - amount*0.2\n",
    "print(f\" Down payment = $ {down_payment}\")"
   ]
  },
  {
   "cell_type": "code",
   "execution_count": 7,
   "id": "a36ec3a0",
   "metadata": {},
   "outputs": [],
   "source": [
    "# LogicalOperator (AND, OR, NOT)"
   ]
  },
  {
   "cell_type": "code",
   "execution_count": 9,
   "id": "e78d4d16",
   "metadata": {},
   "outputs": [
    {
     "name": "stdout",
     "output_type": "stream",
     "text": [
      "Not Eligible for loan\n"
     ]
    }
   ],
   "source": [
    "good_credit = True\n",
    "high_income = False\n",
    "\n",
    "if good_credit and high_income :\n",
    "    print(\"Eligible for loan\")\n",
    "else:\n",
    "    print(\"Not Eligible for loan\")"
   ]
  },
  {
   "cell_type": "code",
   "execution_count": 10,
   "id": "f8d9a14f",
   "metadata": {},
   "outputs": [
    {
     "name": "stdout",
     "output_type": "stream",
     "text": [
      "Eligible for loan\n"
     ]
    }
   ],
   "source": [
    "good_credit = True\n",
    "high_income = False\n",
    "\n",
    "if good_credit or high_income :\n",
    "    print(\"Eligible for loan\")\n",
    "else:\n",
    "    print(\"Not eligible for loan\")"
   ]
  },
  {
   "cell_type": "code",
   "execution_count": 13,
   "id": "be776686",
   "metadata": {},
   "outputs": [
    {
     "name": "stdout",
     "output_type": "stream",
     "text": [
      "Not Eligible\n"
     ]
    }
   ],
   "source": [
    "good_credit = True\n",
    "criminal_record = True\n",
    "\n",
    "if good_credit and not criminal_record :\n",
    "    print(\"Eligible\")\n",
    "else :\n",
    "    print(\"Not Eligible\")"
   ]
  },
  {
   "cell_type": "code",
   "execution_count": 14,
   "id": "d3ea5c3e",
   "metadata": {},
   "outputs": [],
   "source": [
    "# Comparission Operator(>, <, >=, <=, ==, <>)"
   ]
  },
  {
   "cell_type": "code",
   "execution_count": 16,
   "id": "208677a3",
   "metadata": {},
   "outputs": [
    {
     "name": "stdout",
     "output_type": "stream",
     "text": [
      "It's a hot day\n"
     ]
    }
   ],
   "source": [
    "tempr = 50\n",
    "if tempr > 40 :\n",
    "    print(f\"It's a hot day\")\n",
    "    if tempr <10:\n",
    "        print(f\"It's a cold day\")\n",
    "else:\n",
    "    print(f\"It's a lovely day\")"
   ]
  },
  {
   "cell_type": "code",
   "execution_count": 18,
   "id": "55dab982",
   "metadata": {},
   "outputs": [
    {
     "name": "stdout",
     "output_type": "stream",
     "text": [
      "Lovely name\n"
     ]
    }
   ],
   "source": [
    "name = 'John'\n",
    "if len(name) < 3:\n",
    "    print(\"must be atleast 3 letters\")\n",
    "elif len(name) > 50:\n",
    "    print(\"must be less than 50 letters\")\n",
    "else:\n",
    "    print(\"Lovely name\")"
   ]
  },
  {
   "cell_type": "code",
   "execution_count": 24,
   "id": "66ae1281",
   "metadata": {},
   "outputs": [
    {
     "name": "stdout",
     "output_type": "stream",
     "text": [
      "your weight?70\n",
      "(L)bs or (K)g : k\n",
      "Your weight is 155 lbs\n"
     ]
    }
   ],
   "source": [
    "weight = int(input(\"your weight?\"))\n",
    "unit = input(\"(L)bs or (K)g : \")\n",
    "\n",
    "if unit.upper() == \"L\":\n",
    "    weight_kg = weight* 0.45\n",
    "    print(f\"Your weight is {weight_kg} kg\")\n",
    "elif unit.upper() == \"K\":\n",
    "    weight_lbs = round(weight//0.45)\n",
    "    print(f\"Your weight is {weight_lbs} lbs\")\n",
    "else:\n",
    "    print(\"Mention your weight correctly\")"
   ]
  },
  {
   "cell_type": "code",
   "execution_count": 1,
   "id": "adc97f6d",
   "metadata": {},
   "outputs": [],
   "source": [
    "# While Loop"
   ]
  },
  {
   "cell_type": "code",
   "execution_count": 4,
   "id": "7a95f079",
   "metadata": {},
   "outputs": [
    {
     "name": "stdout",
     "output_type": "stream",
     "text": [
      "1\n",
      "2\n",
      "3\n",
      "4\n",
      "5\n",
      "Done\n"
     ]
    }
   ],
   "source": [
    "i = 1\n",
    "while i <= 5 :\n",
    "    print(i)\n",
    "    i = i+1\n",
    "print(\"Done\")"
   ]
  },
  {
   "cell_type": "code",
   "execution_count": 4,
   "id": "9929733b",
   "metadata": {},
   "outputs": [
    {
     "name": "stdout",
     "output_type": "stream",
     "text": [
      "Guess : 9\n",
      "you won!\n"
     ]
    }
   ],
   "source": [
    "guess_cnt = 0\n",
    "guess_limit = 3\n",
    "while guess_cnt < guess_limit:\n",
    "    guess_cnt = guess_cnt + 1\n",
    "    guess_num = int(input(\"Guess : \"))\n",
    "    if guess_num == 9 :\n",
    "        print(\"you won!\")\n",
    "        break\n",
    "else:\n",
    "    print(\"Sorry, you lost\")       "
   ]
  },
  {
   "cell_type": "code",
   "execution_count": 2,
   "id": "2ba35b85",
   "metadata": {},
   "outputs": [
    {
     "name": "stdout",
     "output_type": "stream",
     "text": [
      "> start\n",
      "Car Started\n",
      "> start\n",
      "Car already started..\n",
      "> stop\n",
      "Car Stopped.\n",
      "> stop\n",
      "Car already stopped.\n",
      "> quit\n",
      "Quit\n"
     ]
    }
   ],
   "source": [
    "command = \"\"\n",
    "car_started = False\n",
    "while True :\n",
    "    command = input(\"> \").lower()\n",
    "    if command == \"start\":\n",
    "        if car_started:\n",
    "            print(\"Car already started..\")\n",
    "        else :\n",
    "            car_started = True\n",
    "            print(\"Car Started\")\n",
    "    elif command == \"stop\":\n",
    "        if not car_started :\n",
    "            print(\"Car already stopped.\")\n",
    "        else:\n",
    "            car_started = False\n",
    "            print(\"Car Stopped.\")\n",
    "    elif command == \"help\":\n",
    "        print('''\n",
    "start - To start the car\n",
    "stop - To stop the car\n",
    "quit - quit\n",
    "        ''')\n",
    "    elif command == \"quit\":\n",
    "        print(\"Quit\")\n",
    "        break\n",
    "    else :\n",
    "        print(\"I don't Understand\")"
   ]
  },
  {
   "cell_type": "code",
   "execution_count": 6,
   "id": "e87a67ac",
   "metadata": {},
   "outputs": [],
   "source": [
    "# Lists [] - muteabe (we can change or modify the values inside the lists)\n",
    "price = [10, 12, 15]\n",
    "names = [\"John\", \"Mosh\", \"Riddi\"]\n",
    "name_price = [\"John\",10, \"Mosh\", 20, \"Rihan\", 30]"
   ]
  },
  {
   "cell_type": "code",
   "execution_count": 7,
   "id": "23e8476e",
   "metadata": {},
   "outputs": [
    {
     "data": {
      "text/plain": [
       "(range(0, 10), range(0, 20), range(1, 50, 3))"
      ]
     },
     "execution_count": 7,
     "metadata": {},
     "output_type": "execute_result"
    }
   ],
   "source": [
    "# range\n",
    "range(10), range(0, 20), range(1, 50, 3)"
   ]
  },
  {
   "cell_type": "code",
   "execution_count": 10,
   "id": "42d85887",
   "metadata": {},
   "outputs": [
    {
     "name": "stdout",
     "output_type": "stream",
     "text": [
      "10\n",
      "60\n",
      "140\n",
      "your total is 140\n"
     ]
    }
   ],
   "source": [
    "prices = [10,50,80]\n",
    "total = 0\n",
    "for price in prices:\n",
    "    total = total + price\n",
    "    print(total)\n",
    "print(f'your total is {total}')"
   ]
  },
  {
   "cell_type": "code",
   "execution_count": 11,
   "id": "000937a4",
   "metadata": {},
   "outputs": [],
   "source": [
    "# Nested Loops"
   ]
  },
  {
   "cell_type": "code",
   "execution_count": 12,
   "id": "92823f19",
   "metadata": {},
   "outputs": [
    {
     "name": "stdout",
     "output_type": "stream",
     "text": [
      "(0, 0)\n",
      "(0, 1)\n",
      "(0, 2)\n",
      "(1, 0)\n",
      "(1, 1)\n",
      "(1, 2)\n",
      "(2, 0)\n",
      "(2, 1)\n",
      "(2, 2)\n",
      "(3, 0)\n",
      "(3, 1)\n",
      "(3, 2)\n"
     ]
    }
   ],
   "source": [
    "for x in range(4):\n",
    "    for y in range(3):\n",
    "        print(f'({x}, {y})')"
   ]
  },
  {
   "cell_type": "code",
   "execution_count": 23,
   "id": "20d4c714",
   "metadata": {},
   "outputs": [
    {
     "name": "stdout",
     "output_type": "stream",
     "text": [
      "xxxxx\n",
      "xx\n",
      "xxxxx\n",
      "xx\n",
      "xx\n"
     ]
    }
   ],
   "source": [
    "number = [5, 2, 5, 2, 2]\n",
    "for num_cnt in number:\n",
    "    output = ''\n",
    "    for cnt in range(num_cnt):\n",
    "        output = output + 'x'\n",
    "    print(output)"
   ]
  },
  {
   "cell_type": "code",
   "execution_count": 24,
   "id": "3c0f5b31",
   "metadata": {},
   "outputs": [
    {
     "name": "stdout",
     "output_type": "stream",
     "text": [
      "x\n",
      "x\n",
      "x\n",
      "x\n",
      "xxxxx\n"
     ]
    }
   ],
   "source": [
    "number = [1, 1, 1, 1, 5]\n",
    "for num_cnt in number:\n",
    "    output = ''\n",
    "    for cnt in range(num_cnt):\n",
    "        output = output + 'x'\n",
    "    print(output)"
   ]
  },
  {
   "cell_type": "code",
   "execution_count": 25,
   "id": "4f89b282",
   "metadata": {},
   "outputs": [],
   "source": [
    "# List Inexing"
   ]
  },
  {
   "cell_type": "code",
   "execution_count": 30,
   "id": "d14fb51b",
   "metadata": {},
   "outputs": [
    {
     "name": "stdout",
     "output_type": "stream",
     "text": [
      "['John', 'Mosh', 'Mary', 'Sarah', 'Bob']\n",
      "John\n",
      "Bob\n",
      "['John', 'Mosh', 'Mary', 'Sarah']\n",
      "['Mary', 'Sarah']\n",
      "['John', 'Mosh', 'Mary', 'Sarah', 'Bob']\n",
      "['Mary', 'Sarah', 'Bob']\n",
      "['John', 'Mosh', 'Mary', 'Sarah', 'Bob']\n",
      "['John Marry', 'Mosh', 'Mary', 'Sarah', 'Bob']\n"
     ]
    }
   ],
   "source": [
    "names = [\"John\", \"Mosh\", \"Mary\", \"Sarah\", \"Bob\"]\n",
    "print(names)\n",
    "print(names[0])\n",
    "print(names[-1])\n",
    "print(names[0:-1])\n",
    "print(names[2:4])\n",
    "print(names[: 5])\n",
    "print(names[2:])\n",
    "print(names[:])\n",
    "names[0] = \"John Marry\"\n",
    "print(names)"
   ]
  },
  {
   "cell_type": "code",
   "execution_count": 34,
   "id": "f86f5feb",
   "metadata": {},
   "outputs": [
    {
     "name": "stdout",
     "output_type": "stream",
     "text": [
      "250\n",
      "10\n",
      "460\n"
     ]
    }
   ],
   "source": [
    "numbers = [10, 250, 80, 120]\n",
    "print(max(numbers))\n",
    "print(min(numbers))\n",
    "print(sum(numbers))"
   ]
  },
  {
   "cell_type": "code",
   "execution_count": 36,
   "id": "7565dedd",
   "metadata": {},
   "outputs": [
    {
     "name": "stdout",
     "output_type": "stream",
     "text": [
      "55\n"
     ]
    }
   ],
   "source": [
    "numbers = [20, 55, 30, 12, 8, 6]\n",
    "max_num = numbers[0]\n",
    "for num in numbers :\n",
    "    if num > max_num:\n",
    "        max_num = num\n",
    "print(max_num)"
   ]
  },
  {
   "cell_type": "code",
   "execution_count": 38,
   "id": "9bf45732",
   "metadata": {},
   "outputs": [],
   "source": [
    "# 2D matrix "
   ]
  },
  {
   "cell_type": "code",
   "execution_count": 4,
   "id": "80be6653",
   "metadata": {},
   "outputs": [
    {
     "name": "stdout",
     "output_type": "stream",
     "text": [
      "[1, 2, 3]\n",
      "[4, 5, 6]\n",
      "[7, 8, 9]\n",
      "2\n",
      "5\n",
      "8\n",
      "1\n",
      "2\n",
      "3\n",
      "4\n",
      "5\n",
      "6\n",
      "7\n",
      "8\n",
      "9\n"
     ]
    }
   ],
   "source": [
    "matrix = [\n",
    "    [1, 2, 3],\n",
    "    [4, 5, 6],\n",
    "    [7, 8, 9]\n",
    "]\n",
    "print(matrix[0])\n",
    "print(matrix[1])\n",
    "print(matrix[2])\n",
    "print(matrix[0] [1])\n",
    "print(matrix[1] [1])\n",
    "print(matrix[2] [1])\n",
    "for rows in matrix:\n",
    "    for row in rows:\n",
    "        print(row)"
   ]
  },
  {
   "cell_type": "code",
   "execution_count": 5,
   "id": "53fc1058",
   "metadata": {},
   "outputs": [],
   "source": [
    "# list Methods \n",
    "# append - to insert last value in list\n",
    "# insert - to insert value in req index position\n",
    "# remove - to remove value from list\n",
    "# clear - to clear all values\n",
    "# pop - to delete the last value in a list\n",
    "# index - to know the position of values\n",
    "# in - to check the values that in the list\n",
    "# count - to count the number of repeting values in a list\n",
    "# sort - to sort the lilst in asc\n",
    "# reverse - to sort the list in desc\n",
    "# copy - to copy the list "
   ]
  },
  {
   "cell_type": "code",
   "execution_count": 17,
   "id": "f723e016",
   "metadata": {},
   "outputs": [
    {
     "name": "stdout",
     "output_type": "stream",
     "text": [
      "[9, 3, 5, 8, 12, 5]\n"
     ]
    }
   ],
   "source": [
    "numbers = [1, 3, 5, 8, 12, 5]\n",
    "numbers.append(20)\n",
    "numbers.insert(0, 9)\n",
    "numbers.remove(1)\n",
    "numbers.pop()\n",
    "numbers.count(5)\n",
    "print(numbers)"
   ]
  },
  {
   "cell_type": "code",
   "execution_count": 21,
   "id": "19a65820",
   "metadata": {},
   "outputs": [
    {
     "name": "stdout",
     "output_type": "stream",
     "text": [
      "[10, 5, 12, 20, 3, 6]\n"
     ]
    }
   ],
   "source": [
    "# write a programm to remove duplicates in a list\n",
    "numbers = [10,5,12,5,20,3,6,12,10]\n",
    "uniques = []\n",
    "for num in numbers:\n",
    "    if num not in uniques:\n",
    "        uniques.append(num)\n",
    "print(uniques)"
   ]
  },
  {
   "cell_type": "code",
   "execution_count": 22,
   "id": "fe39d4fd",
   "metadata": {},
   "outputs": [],
   "source": [
    "# Tuples - Immuteable (we cannot change or modify the values inside the tuples)"
   ]
  },
  {
   "cell_type": "code",
   "execution_count": 28,
   "id": "06404641",
   "metadata": {},
   "outputs": [
    {
     "name": "stdout",
     "output_type": "stream",
     "text": [
      "5\n"
     ]
    },
    {
     "data": {
      "text/plain": [
       "2"
      ]
     },
     "execution_count": 28,
     "metadata": {},
     "output_type": "execute_result"
    }
   ],
   "source": [
    "numbers = (1, 5, 9, 15, 15)\n",
    "print(numbers[1])\n",
    "numbers.count(15)"
   ]
  },
  {
   "cell_type": "code",
   "execution_count": 29,
   "id": "21fc81f1",
   "metadata": {},
   "outputs": [],
   "source": [
    "# Unpacking"
   ]
  },
  {
   "cell_type": "code",
   "execution_count": 31,
   "id": "1f891381",
   "metadata": {},
   "outputs": [
    {
     "name": "stdout",
     "output_type": "stream",
     "text": [
      "1\n"
     ]
    }
   ],
   "source": [
    "numbers = (1,2,3)\n",
    "x, y, z = numbers\n",
    "print(x)\n",
    "print(z)"
   ]
  },
  {
   "cell_type": "code",
   "execution_count": 33,
   "id": "df975a97",
   "metadata": {},
   "outputs": [
    {
     "name": "stdout",
     "output_type": "stream",
     "text": [
      "80\n"
     ]
    }
   ],
   "source": [
    "coordinates = [20,50,80]\n",
    "x, y, z = coordinates\n",
    "print(z)"
   ]
  },
  {
   "cell_type": "code",
   "execution_count": 34,
   "id": "b98c74ed",
   "metadata": {},
   "outputs": [],
   "source": [
    "#Dictonaries"
   ]
  },
  {
   "cell_type": "code",
   "execution_count": 54,
   "id": "89ff5c1e",
   "metadata": {},
   "outputs": [
    {
     "name": "stdout",
     "output_type": "stream",
     "text": [
      "{'name': 'John Smith', 'age': 40, 'is_verified': True}\n",
      "John Smith\n",
      "40\n",
      "None\n",
      "None\n",
      "Jan 29 1995\n",
      "Jack Smith\n"
     ]
    }
   ],
   "source": [
    "customers = {\n",
    "    \"name\" : \"John Smith\",\n",
    "    \"age\" : 40,\n",
    "    \"is_verified\" : True\n",
    "}\n",
    "print(customers)\n",
    "print(customers[\"name\"])\n",
    "print(customers.get(\"age\"))\n",
    "#print(customers[\"birth_date\"])\n",
    "print(customers.get(\"birth_date\"))\n",
    "print(customers.get(\"birth_date\"))\n",
    "print(customers.get(\"birth_date\", \"Jan 29 1995\"))\n",
    "customers[\"name\"] = \"Jack Smith\"\n",
    "print(customers[\"name\"])"
   ]
  },
  {
   "cell_type": "code",
   "execution_count": 61,
   "id": "15862498",
   "metadata": {},
   "outputs": [
    {
     "name": "stdout",
     "output_type": "stream",
     "text": [
      "Phone: 123\n",
      "One Two Three \n"
     ]
    }
   ],
   "source": [
    "phone = input(\"Phone: \")\n",
    "num_text = {\n",
    "    \"1\": \"One\",\n",
    "    \"2\": \"Two\",\n",
    "    \"3\" : \"Three\",\n",
    "    \"4\" : \"Four\",\n",
    "    \"5\" : \"Five\",\n",
    "    \"6\" : \"Six\",\n",
    "    \"7\" : \"Seven\",\n",
    "    \"8\" : \"Eight\",\n",
    "    \"9\" : \"Nine\",\n",
    "    \"0\" : \"Zero\"\n",
    "}\n",
    "output = \"\"\n",
    "for phn in phone:\n",
    "    output = output + num_text.get(phn) + \" \"\n",
    "print(output)"
   ]
  },
  {
   "cell_type": "code",
   "execution_count": 63,
   "id": "d3aec3d0",
   "metadata": {},
   "outputs": [],
   "source": [
    "# Functions"
   ]
  },
  {
   "cell_type": "code",
   "execution_count": null,
   "id": "709ae3e4",
   "metadata": {},
   "outputs": [],
   "source": []
  }
 ],
 "metadata": {
  "kernelspec": {
   "display_name": "Python 3 (ipykernel)",
   "language": "python",
   "name": "python3"
  },
  "language_info": {
   "codemirror_mode": {
    "name": "ipython",
    "version": 3
   },
   "file_extension": ".py",
   "mimetype": "text/x-python",
   "name": "python",
   "nbconvert_exporter": "python",
   "pygments_lexer": "ipython3",
   "version": "3.9.7"
  }
 },
 "nbformat": 4,
 "nbformat_minor": 5
}
