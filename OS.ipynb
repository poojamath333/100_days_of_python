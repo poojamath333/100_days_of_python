{
 "cells": [
  {
   "cell_type": "code",
   "execution_count": 1,
   "id": "21d6be74",
   "metadata": {},
   "outputs": [],
   "source": [
    "import os"
   ]
  },
  {
   "cell_type": "code",
   "execution_count": 15,
   "id": "07229fe3",
   "metadata": {},
   "outputs": [],
   "source": [
    "#current working directory (folder)\n",
    "\n",
    "path = os.getcwd()"
   ]
  },
  {
   "cell_type": "code",
   "execution_count": 16,
   "id": "63ecec91",
   "metadata": {},
   "outputs": [],
   "source": [
    "path_new = path + \"\\\\New\""
   ]
  },
  {
   "cell_type": "code",
   "execution_count": 17,
   "id": "232a9d1c",
   "metadata": {},
   "outputs": [
    {
     "data": {
      "text/plain": [
       "'C:\\\\Users\\\\home\\\\Documents\\\\New'"
      ]
     },
     "execution_count": 17,
     "metadata": {},
     "output_type": "execute_result"
    }
   ],
   "source": [
    "path_new"
   ]
  },
  {
   "cell_type": "code",
   "execution_count": 20,
   "id": "a22f6c85",
   "metadata": {},
   "outputs": [],
   "source": [
    "#chdir - change directory / change folder\n",
    "\n",
    "os.chdir(\"C:\\\\Users\\\\home\\\\Documents\\\\PYTHON\")"
   ]
  },
  {
   "cell_type": "code",
   "execution_count": 21,
   "id": "86d7c722",
   "metadata": {},
   "outputs": [
    {
     "data": {
      "text/plain": [
       "'C:\\\\Users\\\\home\\\\Documents\\\\PYTHON'"
      ]
     },
     "execution_count": 21,
     "metadata": {},
     "output_type": "execute_result"
    }
   ],
   "source": [
    "os.getcwd()"
   ]
  },
  {
   "cell_type": "code",
   "execution_count": 23,
   "id": "50952141",
   "metadata": {},
   "outputs": [],
   "source": [
    "#mkdir - make new directory (folder)\n",
    "\n",
    "os.mkdir(\"os_test\")"
   ]
  },
  {
   "cell_type": "code",
   "execution_count": 26,
   "id": "adad6711",
   "metadata": {},
   "outputs": [
    {
     "data": {
      "text/plain": [
       "['.ipynb_checkpoints',\n",
       " 'Course+Pledge+-+App+Brewery+100+Days+of+Python.pdf',\n",
       " 'Day 1.ipynb',\n",
       " 'Day 2.ipynb',\n",
       " 'Day 3.ipynb',\n",
       " 'Day 4.ipynb',\n",
       " 'Day 5-checkpoint.ipynb',\n",
       " 'Day 5.ipynb',\n",
       " 'Day 6.ipynb',\n",
       " 'Day 7.ipynb',\n",
       " 'desktop.ini',\n",
       " 'logo.png',\n",
       " 'os_test',\n",
       " 'Pandas - 1.ipynb',\n",
       " 'Python Practise .ipynb',\n",
       " 'Python Scripts',\n",
       " 'Python+Syntax+Cheat+Sheet+Booklet+v2.pdf',\n",
       " 'Python_for_data_analysis - 17-03-2024.ipynb',\n",
       " 'Python_for_data_analysis.ipynb',\n",
       " 'Syllabus+for+100+Days+of+Python.pdf',\n",
       " 'Untitled.ipynb',\n",
       " 'untitled.txt',\n",
       " 'Untitled1.ipynb',\n",
       " 'Untitled2.ipynb']"
      ]
     },
     "execution_count": 26,
     "metadata": {},
     "output_type": "execute_result"
    }
   ],
   "source": [
    "os.listdir(\"C:\\\\Users\\\\home\\\\Documents\\\\PYTHON\")"
   ]
  },
  {
   "cell_type": "code",
   "execution_count": 27,
   "id": "af5e14de",
   "metadata": {},
   "outputs": [
    {
     "data": {
      "text/plain": [
       "['.ipynb_checkpoints',\n",
       " 'Course+Pledge+-+App+Brewery+100+Days+of+Python.pdf',\n",
       " 'Day 1.ipynb',\n",
       " 'Day 2.ipynb',\n",
       " 'Day 3.ipynb',\n",
       " 'Day 4.ipynb',\n",
       " 'Day 5-checkpoint.ipynb',\n",
       " 'Day 5.ipynb',\n",
       " 'Day 6.ipynb',\n",
       " 'Day 7.ipynb',\n",
       " 'desktop.ini',\n",
       " 'logo.png',\n",
       " 'os_test',\n",
       " 'Pandas - 1.ipynb',\n",
       " 'Python Practise .ipynb',\n",
       " 'Python Scripts',\n",
       " 'Python+Syntax+Cheat+Sheet+Booklet+v2.pdf',\n",
       " 'Python_for_data_analysis - 17-03-2024.ipynb',\n",
       " 'Python_for_data_analysis.ipynb',\n",
       " 'Syllabus+for+100+Days+of+Python.pdf',\n",
       " 'Untitled.ipynb',\n",
       " 'untitled.txt',\n",
       " 'Untitled1.ipynb',\n",
       " 'Untitled2.ipynb']"
      ]
     },
     "execution_count": 27,
     "metadata": {},
     "output_type": "execute_result"
    }
   ],
   "source": [
    "os.listdir(os.getcwd())"
   ]
  },
  {
   "cell_type": "code",
   "execution_count": 28,
   "id": "aa829607",
   "metadata": {},
   "outputs": [],
   "source": [
    "#rmdir - remove directory (folder)\n",
    "\n",
    "os.rmdir(\"os_test\")"
   ]
  },
  {
   "cell_type": "code",
   "execution_count": 29,
   "id": "e0da7f73",
   "metadata": {},
   "outputs": [
    {
     "data": {
      "text/plain": [
       "['.ipynb_checkpoints',\n",
       " 'Course+Pledge+-+App+Brewery+100+Days+of+Python.pdf',\n",
       " 'Day 1.ipynb',\n",
       " 'Day 2.ipynb',\n",
       " 'Day 3.ipynb',\n",
       " 'Day 4.ipynb',\n",
       " 'Day 5-checkpoint.ipynb',\n",
       " 'Day 5.ipynb',\n",
       " 'Day 6.ipynb',\n",
       " 'Day 7.ipynb',\n",
       " 'desktop.ini',\n",
       " 'logo.png',\n",
       " 'Pandas - 1.ipynb',\n",
       " 'Python Practise .ipynb',\n",
       " 'Python Scripts',\n",
       " 'Python+Syntax+Cheat+Sheet+Booklet+v2.pdf',\n",
       " 'Python_for_data_analysis - 17-03-2024.ipynb',\n",
       " 'Python_for_data_analysis.ipynb',\n",
       " 'Syllabus+for+100+Days+of+Python.pdf',\n",
       " 'Untitled.ipynb',\n",
       " 'untitled.txt',\n",
       " 'Untitled1.ipynb',\n",
       " 'Untitled2.ipynb']"
      ]
     },
     "execution_count": 29,
     "metadata": {},
     "output_type": "execute_result"
    }
   ],
   "source": [
    "os.listdir(os.getcwd())"
   ]
  },
  {
   "cell_type": "code",
   "execution_count": 30,
   "id": "ee403786",
   "metadata": {},
   "outputs": [],
   "source": [
    "os.remove(\"logo.png\")"
   ]
  },
  {
   "cell_type": "code",
   "execution_count": 33,
   "id": "00511aeb",
   "metadata": {},
   "outputs": [
    {
     "data": {
      "text/plain": [
       "['.ipynb_checkpoints',\n",
       " 'Course+Pledge+-+App+Brewery+100+Days+of+Python.pdf',\n",
       " 'Day 1.ipynb',\n",
       " 'Day 2.ipynb',\n",
       " 'Day 3.ipynb',\n",
       " 'Day 4.ipynb',\n",
       " 'Day 5-checkpoint.ipynb',\n",
       " 'Day 5.ipynb',\n",
       " 'Day 6.ipynb',\n",
       " 'Day 7.ipynb',\n",
       " 'desktop.ini',\n",
       " 'Pandas - 1.ipynb',\n",
       " 'Python Practise .ipynb',\n",
       " 'Python Scripts',\n",
       " 'Python+Syntax+Cheat+Sheet+Booklet+v2.pdf',\n",
       " 'Python_for_data_analysis - 17-03-2024.ipynb',\n",
       " 'Python_for_data_analysis.ipynb',\n",
       " 'Syllabus+for+100+Days+of+Python.pdf',\n",
       " 'Untitled.ipynb',\n",
       " 'untitled.txt',\n",
       " 'Untitled1.ipynb',\n",
       " 'Untitled2.ipynb']"
      ]
     },
     "execution_count": 33,
     "metadata": {},
     "output_type": "execute_result"
    }
   ],
   "source": [
    "os.listdir(os.getcwd())"
   ]
  },
  {
   "cell_type": "code",
   "execution_count": 34,
   "id": "c70917eb",
   "metadata": {},
   "outputs": [],
   "source": [
    "os.mkdir(\"Trial\")"
   ]
  },
  {
   "cell_type": "code",
   "execution_count": 38,
   "id": "1f3dd44f",
   "metadata": {},
   "outputs": [
    {
     "data": {
      "text/plain": [
       "['.ipynb_checkpoints',\n",
       " 'Course+Pledge+-+App+Brewery+100+Days+of+Python.pdf',\n",
       " 'Day 1.ipynb',\n",
       " 'Day 2.ipynb',\n",
       " 'Day 3.ipynb',\n",
       " 'Day 4.ipynb',\n",
       " 'Day 5-checkpoint.ipynb',\n",
       " 'Day 5.ipynb',\n",
       " 'Day 6.ipynb',\n",
       " 'Day 7.ipynb',\n",
       " 'desktop.ini',\n",
       " 'New Text Document (2).txt',\n",
       " 'New Text Document.txt',\n",
       " 'Pandas - 1.ipynb',\n",
       " 'Python Practise .ipynb',\n",
       " 'Python Scripts',\n",
       " 'Python+Syntax+Cheat+Sheet+Booklet+v2.pdf',\n",
       " 'Python_for_data_analysis - 17-03-2024.ipynb',\n",
       " 'Python_for_data_analysis.ipynb',\n",
       " 'Syllabus+for+100+Days+of+Python.pdf',\n",
       " 'Untitled.ipynb',\n",
       " 'untitled.txt',\n",
       " 'Untitled1.ipynb',\n",
       " 'Untitled2.ipynb']"
      ]
     },
     "execution_count": 38,
     "metadata": {},
     "output_type": "execute_result"
    }
   ],
   "source": [
    "os.listdir(os.getcwd())"
   ]
  },
  {
   "cell_type": "code",
   "execution_count": 41,
   "id": "ea386775",
   "metadata": {},
   "outputs": [
    {
     "name": "stdout",
     "output_type": "stream",
     "text": [
      "C:\\Users\\home\\Documents\\PYTHON\\New Folder\\New Text Document (2).txt\n"
     ]
    }
   ],
   "source": [
    "filename = \"New Text Document (2).txt\"\n",
    "folder_path = \"C:\\\\Users\\\\home\\\\Documents\\\\PYTHON\\\\New Folder\"\n",
    "\n",
    "file_path = os.path.join(folder_path, filename)\n",
    "\n",
    "print(file_path)"
   ]
  },
  {
   "cell_type": "code",
   "execution_count": 42,
   "id": "aebd15b4",
   "metadata": {},
   "outputs": [],
   "source": [
    "os.remove(file_path)"
   ]
  },
  {
   "cell_type": "code",
   "execution_count": 43,
   "id": "e9550eeb",
   "metadata": {},
   "outputs": [
    {
     "data": {
      "text/plain": [
       "'nt'"
      ]
     },
     "execution_count": 43,
     "metadata": {},
     "output_type": "execute_result"
    }
   ],
   "source": [
    "os.name"
   ]
  },
  {
   "cell_type": "code",
   "execution_count": 47,
   "id": "69fb4f22",
   "metadata": {},
   "outputs": [
    {
     "name": "stdout",
     "output_type": "stream",
     "text": [
      "C:\\Users\\home\\Documents\\PYTHON\n",
      "C:\\Users\\home\\Documents\\PYTHON\\New folder\n"
     ]
    }
   ],
   "source": [
    "filename = \"samplefile.txt\"\n",
    "\n",
    "folder_path = os.getcwd()\n",
    "print(folder_path)\n",
    "\n",
    "folder_path = folder_path + \"\\\\New folder\"\n",
    "print(folder_path)"
   ]
  },
  {
   "cell_type": "code",
   "execution_count": 57,
   "id": "7b4d9c30",
   "metadata": {},
   "outputs": [],
   "source": [
    "os.chdir(folder_path)\n",
    "filename = \"samplefile.txt\"\n",
    "\n",
    "file = open(filename, \"rb\")\n",
    "\n",
    "file.readlines()\n",
    "file.close()"
   ]
  },
  {
   "cell_type": "code",
   "execution_count": 58,
   "id": "7587af0c",
   "metadata": {},
   "outputs": [],
   "source": [
    "file = open(filename, \"w\")\n",
    "\n",
    "file.write(\"Hello world\")\n",
    "\n",
    "file.close()"
   ]
  },
  {
   "cell_type": "code",
   "execution_count": 59,
   "id": "e325dfac",
   "metadata": {},
   "outputs": [],
   "source": [
    "file = open(filename, \"a\")"
   ]
  },
  {
   "cell_type": "code",
   "execution_count": 60,
   "id": "594c28e0",
   "metadata": {},
   "outputs": [
    {
     "data": {
      "text/plain": [
       "[b'Hello world']"
      ]
     },
     "execution_count": 60,
     "metadata": {},
     "output_type": "execute_result"
    }
   ],
   "source": [
    "file.readlines()"
   ]
  },
  {
   "cell_type": "code",
   "execution_count": 61,
   "id": "bdce9da6",
   "metadata": {},
   "outputs": [],
   "source": [
    "file.close()"
   ]
  },
  {
   "cell_type": "code",
   "execution_count": 65,
   "id": "4270344a",
   "metadata": {},
   "outputs": [],
   "source": [
    "file = open(filename, \"a\")\n",
    "file.write(\"\\n Hey, How are you?\")\n",
    "file.close()"
   ]
  },
  {
   "cell_type": "code",
   "execution_count": 67,
   "id": "178f5579",
   "metadata": {},
   "outputs": [
    {
     "data": {
      "text/plain": [
       "[b'Hello worldHey, How are you?\\r\\n', b' Hey, How are you?']"
      ]
     },
     "execution_count": 67,
     "metadata": {},
     "output_type": "execute_result"
    }
   ],
   "source": [
    "file = open(filename, \"rb\")\n",
    "file.readlines()\n"
   ]
  },
  {
   "cell_type": "code",
   "execution_count": null,
   "id": "7b862fbc",
   "metadata": {},
   "outputs": [],
   "source": [
    "\\"
   ]
  }
 ],
 "metadata": {
  "kernelspec": {
   "display_name": "Python 3 (ipykernel)",
   "language": "python",
   "name": "python3"
  },
  "language_info": {
   "codemirror_mode": {
    "name": "ipython",
    "version": 3
   },
   "file_extension": ".py",
   "mimetype": "text/x-python",
   "name": "python",
   "nbconvert_exporter": "python",
   "pygments_lexer": "ipython3",
   "version": "3.9.7"
  }
 },
 "nbformat": 4,
 "nbformat_minor": 5
}
