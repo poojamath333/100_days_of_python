{
 "cells": [
  {
   "cell_type": "code",
   "execution_count": 1,
   "id": "3793cc63",
   "metadata": {},
   "outputs": [
    {
     "name": "stdout",
     "output_type": "stream",
     "text": [
      "hello world\n"
     ]
    }
   ],
   "source": [
    "print(\"hello world\")"
   ]
  },
  {
   "cell_type": "code",
   "execution_count": 3,
   "id": "e941d0f1",
   "metadata": {},
   "outputs": [
    {
     "name": "stdout",
     "output_type": "stream",
     "text": [
      "That's my book\n"
     ]
    }
   ],
   "source": [
    "print(\"That's my book\")"
   ]
  },
  {
   "cell_type": "code",
   "execution_count": 1,
   "id": "e7099931",
   "metadata": {},
   "outputs": [
    {
     "name": "stdout",
     "output_type": "stream",
     "text": [
      "John\n",
      "23\n",
      "john23@gmail.com\n"
     ]
    }
   ],
   "source": [
    "# Variables \n",
    "name = \"John\"\n",
    "age = 23\n",
    "email = \"john23@gmail.com\"\n",
    "print(name)\n",
    "print(age)\n",
    "print(email)"
   ]
  },
  {
   "cell_type": "code",
   "execution_count": 2,
   "id": "da28cb5e",
   "metadata": {},
   "outputs": [
    {
     "name": "stdout",
     "output_type": "stream",
     "text": [
      "what's your name? Mosh\n",
      "Enter age 25\n",
      "Enter email mosh@yahoo.co.in\n",
      "Mosh\n",
      "25\n",
      "mosh@yahoo.co.in\n"
     ]
    }
   ],
   "source": [
    "# Reciving Inputs \n",
    "name = input(\"what's your name? \")\n",
    "age = input(\"Enter age \")\n",
    "email = input(\"Enter email \")\n",
    "print(name)\n",
    "print(age)\n",
    "print(email)\n"
   ]
  },
  {
   "cell_type": "code",
   "execution_count": 6,
   "id": "060d76cc",
   "metadata": {},
   "outputs": [
    {
     "name": "stdout",
     "output_type": "stream",
     "text": [
      "Enter Birth Year 1997\n",
      "27\n"
     ]
    }
   ],
   "source": [
    "# Type Conversion\n",
    "#Int Conversion\n",
    "# Float Conversion\n",
    "\n",
    "birth_year = input(\"Enter Birth Year \")\n",
    "age = 2024 - int(birth_year)\n",
    "print(age)"
   ]
  },
  {
   "cell_type": "code",
   "execution_count": 11,
   "id": "5cc13d94",
   "metadata": {},
   "outputs": [
    {
     "name": "stdout",
     "output_type": "stream",
     "text": [
      "Enter weight in lbs 120\n",
      "54.0\n"
     ]
    }
   ],
   "source": [
    "weight = input(\"Enter weight in lbs \")\n",
    "weight_in_kg = float(weight) * 0.45\n",
    "print(weight_in_kg)"
   ]
  },
  {
   "cell_type": "code",
   "execution_count": 12,
   "id": "c362639a",
   "metadata": {},
   "outputs": [
    {
     "name": "stdout",
     "output_type": "stream",
     "text": [
      "python's course for begineer\n"
     ]
    }
   ],
   "source": [
    "# Strings\n",
    "print(\"python's course for begineer\")"
   ]
  },
  {
   "cell_type": "code",
   "execution_count": 13,
   "id": "d86ada93",
   "metadata": {},
   "outputs": [
    {
     "name": "stdout",
     "output_type": "stream",
     "text": [
      "Python for \"Beginners\"\n"
     ]
    }
   ],
   "source": [
    "print('Python for \"Beginners\"')"
   ]
  },
  {
   "cell_type": "code",
   "execution_count": 14,
   "id": "809827cf",
   "metadata": {},
   "outputs": [
    {
     "name": "stdout",
     "output_type": "stream",
     "text": [
      "*****\n"
     ]
    }
   ],
   "source": [
    "print(\"*\" * 5)"
   ]
  },
  {
   "cell_type": "code",
   "execution_count": 16,
   "id": "c993e120",
   "metadata": {},
   "outputs": [
    {
     "name": "stdout",
     "output_type": "stream",
     "text": [
      "Hi World\n"
     ]
    }
   ],
   "source": [
    "print(\"Hi\" + ' '+  \"World\")"
   ]
  },
  {
   "cell_type": "code",
   "execution_count": 23,
   "id": "27ee1364",
   "metadata": {},
   "outputs": [
    {
     "name": "stdout",
     "output_type": "stream",
     "text": [
      "y\n",
      "i\n",
      "Python\n",
      "Python for data analysis\n",
      "ython for data analysi\n"
     ]
    }
   ],
   "source": [
    "# Indexing \n",
    "course = \"Python for data analysis\"\n",
    "#         0123456789\n",
    "project = course[:]\n",
    "print(course[1])\n",
    "print(course[-2])\n",
    "print(course[0:6])\n",
    "print(project)\n",
    "print(course[1:-1])\n"
   ]
  },
  {
   "cell_type": "code",
   "execution_count": 25,
   "id": "be379b81",
   "metadata": {},
   "outputs": [
    {
     "name": "stdout",
     "output_type": "stream",
     "text": [
      "John [Marry] is a coder\n"
     ]
    }
   ],
   "source": [
    "# Formatted string f\" \"\n",
    "name = \"John\"\n",
    "last_name = \"Marry\"\n",
    "print(f'{name} [{last_name}] is a coder')"
   ]
  },
  {
   "cell_type": "code",
   "execution_count": 26,
   "id": "86a40815",
   "metadata": {},
   "outputs": [],
   "source": [
    "# String Methods"
   ]
  },
  {
   "cell_type": "code",
   "execution_count": 34,
   "id": "7a23ef06",
   "metadata": {},
   "outputs": [
    {
     "name": "stdout",
     "output_type": "stream",
     "text": [
      "19\n",
      "PYHTON FOR EVERYONE\n",
      "1\n",
      "Pyhton for beginners\n",
      "True\n"
     ]
    }
   ],
   "source": [
    "course = \"Pyhton for everyone\"\n",
    "print(len(course))\n",
    "print(course.upper()) \n",
    "print(course.find('y'))\n",
    "print(course.replace('everyone', 'beginners'))\n",
    "print('Pyhton' in course)"
   ]
  },
  {
   "cell_type": "code",
   "execution_count": 35,
   "id": "91f69ad7",
   "metadata": {},
   "outputs": [],
   "source": [
    "# Arithmetic operators"
   ]
  },
  {
   "cell_type": "code",
   "execution_count": 40,
   "id": "08a23c0f",
   "metadata": {},
   "outputs": [
    {
     "name": "stdout",
     "output_type": "stream",
     "text": [
      "3.3333333333333335\n",
      "3\n",
      "1\n",
      "13\n",
      "7\n",
      "30\n",
      "1000\n"
     ]
    }
   ],
   "source": [
    "print(10/3)\n",
    "print(10//3)\n",
    "print(10%3)\n",
    "print(10+3)\n",
    "print(10-3)\n",
    "print(10*3)\n",
    "print(10**3)"
   ]
  },
  {
   "cell_type": "code",
   "execution_count": 38,
   "id": "cb093938",
   "metadata": {},
   "outputs": [
    {
     "name": "stdout",
     "output_type": "stream",
     "text": [
      "20\n"
     ]
    }
   ],
   "source": [
    "x = 10\n",
    "x = x + 5\n",
    "x += 5\n",
    "print(x)"
   ]
  },
  {
   "cell_type": "code",
   "execution_count": 39,
   "id": "f44ae5d9",
   "metadata": {},
   "outputs": [
    {
     "data": {
      "text/plain": [
       "18"
      ]
     },
     "execution_count": 39,
     "metadata": {},
     "output_type": "execute_result"
    }
   ],
   "source": [
    "10+ (5-3) * 4"
   ]
  },
  {
   "cell_type": "code",
   "execution_count": 42,
   "id": "603a711f",
   "metadata": {},
   "outputs": [
    {
     "name": "stdout",
     "output_type": "stream",
     "text": [
      "22\n"
     ]
    }
   ],
   "source": [
    "x = 10 + 3 *2 ** 2\n",
    "print(x)"
   ]
  },
  {
   "cell_type": "code",
   "execution_count": 43,
   "id": "aa9caa67",
   "metadata": {},
   "outputs": [],
   "source": [
    "# Math Functions\n"
   ]
  },
  {
   "cell_type": "code",
   "execution_count": 47,
   "id": "f48d6081",
   "metadata": {},
   "outputs": [
    {
     "name": "stdout",
     "output_type": "stream",
     "text": [
      "3\n",
      "2.9\n"
     ]
    }
   ],
   "source": [
    "x = 2.9\n",
    "print(round(x))\n",
    "\n",
    "y = -2.9\n",
    "print(abs(y))"
   ]
  },
  {
   "cell_type": "code",
   "execution_count": 48,
   "id": "733eb3c2",
   "metadata": {},
   "outputs": [],
   "source": [
    "# If Statements"
   ]
  },
  {
   "cell_type": "code",
   "execution_count": 49,
   "id": "b90a5302",
   "metadata": {},
   "outputs": [
    {
     "name": "stdout",
     "output_type": "stream",
     "text": [
      "It's a hot day\n",
      "Drink Pleanty of water\n",
      "Enjoy your day\n"
     ]
    }
   ],
   "source": [
    "is_hot = True\n",
    "\n",
    "if is_hot:\n",
    "    print(\"It's a hot day\")\n",
    "    print(\"Drink Pleanty of water\")\n",
    "print(\"Enjoy your day\")\n"
   ]
  },
  {
   "cell_type": "code",
   "execution_count": 51,
   "id": "dbdb9fbc",
   "metadata": {},
   "outputs": [
    {
     "name": "stdout",
     "output_type": "stream",
     "text": [
      "Enjoy your day\n"
     ]
    }
   ],
   "source": [
    "is_hot = False\n",
    "\n",
    "if is_hot:\n",
    "    print(\"It's a hot day\")\n",
    "    print(\"\")\n",
    "print(\"Enjoy your day\")"
   ]
  },
  {
   "cell_type": "code",
   "execution_count": 52,
   "id": "8495fe89",
   "metadata": {},
   "outputs": [
    {
     "name": "stdout",
     "output_type": "stream",
     "text": [
      "It's a hot day\n",
      "Drink Pleanty of water\n",
      "Enjoy your day\n"
     ]
    }
   ],
   "source": [
    "is_hot = True\n",
    "if is_hot:\n",
    "    print(\"It's a hot day\")\n",
    "    print(\"Drink Pleanty of water\")\n",
    "else:\n",
    "    print(\"It's a cold day\")\n",
    "    print(\"Wear warm clothes\")\n",
    "print(\"Enjoy your day\")"
   ]
  },
  {
   "cell_type": "code",
   "execution_count": 55,
   "id": "aba6ecb7",
   "metadata": {},
   "outputs": [
    {
     "name": "stdout",
     "output_type": "stream",
     "text": [
      "It's a cold day\n",
      "Wear warm clothes\n"
     ]
    }
   ],
   "source": [
    "# If-Elif Statements\n",
    "\n",
    "is_hot = False\n",
    "is_cold = True\n",
    "\n",
    "if is_hot:\n",
    "    print(\"It's a hot day\")\n",
    "    print(\"Drink Pleanty of water\")\n",
    "elif is_cold:\n",
    "    print(\"It's a cold day\")\n",
    "    print(\"Wear warm clothes\")\n",
    "else:\n",
    "    print(\"Enjoy your day\")\n",
    "    \n"
   ]
  },
  {
   "cell_type": "code",
   "execution_count": null,
   "id": "d0720c84",
   "metadata": {},
   "outputs": [],
   "source": []
  }
 ],
 "metadata": {
  "kernelspec": {
   "display_name": "Python 3 (ipykernel)",
   "language": "python",
   "name": "python3"
  },
  "language_info": {
   "codemirror_mode": {
    "name": "ipython",
    "version": 3
   },
   "file_extension": ".py",
   "mimetype": "text/x-python",
   "name": "python",
   "nbconvert_exporter": "python",
   "pygments_lexer": "ipython3",
   "version": "3.9.7"
  }
 },
 "nbformat": 4,
 "nbformat_minor": 5
}
