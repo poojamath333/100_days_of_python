{
 "cells": [
  {
   "cell_type": "code",
   "execution_count": 1,
   "id": "2038efcb",
   "metadata": {},
   "outputs": [],
   "source": [
    "# Randomisation"
   ]
  },
  {
   "cell_type": "code",
   "execution_count": 14,
   "id": "959fb510",
   "metadata": {},
   "outputs": [
    {
     "name": "stdout",
     "output_type": "stream",
     "text": [
      "5\n"
     ]
    }
   ],
   "source": [
    "import random\n",
    "random_integer = random.randint(1,10)\n",
    "print(random_integer)"
   ]
  },
  {
   "cell_type": "code",
   "execution_count": 15,
   "id": "26ad5318",
   "metadata": {},
   "outputs": [
    {
     "name": "stdout",
     "output_type": "stream",
     "text": [
      "0.45286905382045983\n"
     ]
    }
   ],
   "source": [
    "random_float = random.random()\n",
    "print(random_float)"
   ]
  },
  {
   "cell_type": "code",
   "execution_count": 18,
   "id": "df1171ce",
   "metadata": {},
   "outputs": [
    {
     "name": "stdout",
     "output_type": "stream",
     "text": [
      "6.038832078934436\n"
     ]
    }
   ],
   "source": [
    "random_float_greaterthan1 = random.random()\n",
    "print(random_float_greaterthan1 * 50)"
   ]
  },
  {
   "cell_type": "code",
   "execution_count": 19,
   "id": "bc788e41",
   "metadata": {},
   "outputs": [],
   "source": [
    "#Lists []"
   ]
  },
  {
   "cell_type": "code",
   "execution_count": 24,
   "id": "9205c324",
   "metadata": {},
   "outputs": [
    {
     "name": "stdout",
     "output_type": "stream",
     "text": [
      "apple\n"
     ]
    }
   ],
   "source": [
    "fruits = ['apple', 'cherry', 'banana']\n",
    "print(fruits[0])"
   ]
  },
  {
   "cell_type": "code",
   "execution_count": 26,
   "id": "4f9274da",
   "metadata": {},
   "outputs": [
    {
     "name": "stdout",
     "output_type": "stream",
     "text": [
      "Chhatigarh\n",
      "Hariyana\n"
     ]
    }
   ],
   "source": [
    "states_of_IND = ['Arunachal Pradesh', 'Bihar', 'Chhatigarh', 'Hariyana']\n",
    "print(states_of_IND[2])\n",
    "print(states_of_IND[-1])"
   ]
  },
  {
   "cell_type": "code",
   "execution_count": 28,
   "id": "922d5cb9",
   "metadata": {},
   "outputs": [
    {
     "name": "stdout",
     "output_type": "stream",
     "text": [
      "['Arunachal Pradesh', 'Bihar', 'Chhatigarh', 'Hariyana', 'Andra Pradesh', 'Andra Pradesh']\n"
     ]
    }
   ],
   "source": [
    "states_of_IND.append(\"Andra Pradesh\")\n",
    "print(states_of_IND)"
   ]
  },
  {
   "cell_type": "code",
   "execution_count": 31,
   "id": "7706b65d",
   "metadata": {},
   "outputs": [
    {
     "name": "stdout",
     "output_type": "stream",
     "text": [
      "Andra Pradesh\n"
     ]
    }
   ],
   "source": [
    "no_items = len(states_of_IND)\n",
    "print(states_of_IND[no_items - 1])"
   ]
  },
  {
   "cell_type": "code",
   "execution_count": 34,
   "id": "7d02b72d",
   "metadata": {},
   "outputs": [
    {
     "name": "stdout",
     "output_type": "stream",
     "text": [
      "[['apple', 'cherry', 'banana'], ['spinach', 'Tomato', 'Methi', 'Aloo', 'Onion']]\n"
     ]
    }
   ],
   "source": [
    "# Nested Lists\n",
    "vegetables = [\"spinach\", \"Tomato\", \"Methi\", \"Aloo\", \"Onion\"]\n",
    "mix_veg_fru = [fruits, vegetables]\n",
    "print(mix_veg_fru)"
   ]
  },
  {
   "cell_type": "code",
   "execution_count": null,
   "id": "a8c53e69",
   "metadata": {},
   "outputs": [],
   "source": []
  }
 ],
 "metadata": {
  "kernelspec": {
   "display_name": "Python 3 (ipykernel)",
   "language": "python",
   "name": "python3"
  },
  "language_info": {
   "codemirror_mode": {
    "name": "ipython",
    "version": 3
   },
   "file_extension": ".py",
   "mimetype": "text/x-python",
   "name": "python",
   "nbconvert_exporter": "python",
   "pygments_lexer": "ipython3",
   "version": "3.9.7"
  }
 },
 "nbformat": 4,
 "nbformat_minor": 5
}
